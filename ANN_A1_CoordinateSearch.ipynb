{
  "nbformat": 4,
  "nbformat_minor": 0,
  "metadata": {
    "colab": {
      "provenance": [],
      "authorship_tag": "ABX9TyOVy2+7DIuPrh/3ugk3vTh9",
      "include_colab_link": true
    },
    "kernelspec": {
      "name": "python3",
      "display_name": "Python 3"
    },
    "language_info": {
      "name": "python"
    }
  },
  "cells": [
    {
      "cell_type": "markdown",
      "metadata": {
        "id": "view-in-github",
        "colab_type": "text"
      },
      "source": [
        "<a href=\"https://colab.research.google.com/github/RaoEhsanElahi/Coordinate-Search-Algorithm/blob/main/ANN_A1_CoordinateSearch.ipynb\" target=\"_parent\"><img src=\"https://colab.research.google.com/assets/colab-badge.svg\" alt=\"Open In Colab\"/></a>"
      ]
    },
    {
      "cell_type": "markdown",
      "source": [
        "# Pseudo-code for the coordinate search algorithm\n",
        "## Devising pseudo-code for the coordinate search algorithm described in Section 2.6.1 of Book “Machine Learning Refined\".\n",
        "\n",
        "## Implements the coordinate search algorithm to find a minimum of a function f.\n",
        "  ## Args:\n",
        "      f: The function to optimize.\n",
        "      x_init: The initial guess for the minimum.\n",
        "      max_iter: The maximum number of iterations allowed.\n",
        "      step_size: The step size to use for coordinate updates.\n",
        "\n",
        "  ## Returns:\n",
        "      x_min: The approximate minimum found by the algorithm.\n",
        "      f_min: The function value at the approximate minimum.\n"
      ],
      "metadata": {
        "id": "hcxSuTRcY4KO"
      }
    },
    {
      "cell_type": "code",
      "source": [
        "import numpy as np\n",
        "import matplotlib.pyplot as plt\n",
        "\n",
        "def f(x):\n",
        "  # function for coordinate search\n",
        "  return (3)*(x**2) + 2*x + 3\n",
        "\n",
        "def coordinate_search(f, x_init, max_iter, step_size):\n",
        "\n",
        "  x = x_init.copy()  # Creates a copy to avoid modifying input\n",
        "  f_min = f(x)\n",
        "  iter_count = 0\n",
        "  x_history = [x.copy()]  # Array to Track history of x values for visualization\n",
        "\n",
        "  # coordinate search\n",
        "  while iter_count < max_iter:\n",
        "    improved = False\n",
        "\n",
        "    # Loop through each dimension (coordinate)\n",
        "    for i in range(len(x)):\n",
        "      # Try positive and negative step sizes in the current dimension\n",
        "      x_pos = x.copy()\n",
        "      x_pos[i] += step_size\n",
        "      f_pos = f(x_pos)\n",
        "\n",
        "      x_neg = x.copy()\n",
        "      x_neg[i] -= step_size\n",
        "      f_neg = f(x)\n",
        "\n",
        "      # Update x and f_min if a better value is found\n",
        "      if f_pos < f_min:\n",
        "        x = x_pos.copy()\n",
        "        f_min = f_pos\n",
        "        improved = True\n",
        "      elif f_neg < f_min:\n",
        "        x = x_neg.copy()\n",
        "        f_min = f_neg\n",
        "        improved = True\n",
        "\n",
        "    x_history.append(x.copy())  # Add current x to history\n",
        "    # Early termination if no improvement within an iteration\n",
        "    if not improved:\n",
        "      break\n",
        "\n",
        "    iter_count += 1\n",
        "\n",
        "  return x, f_min, x_history\n",
        "\n",
        "def plot_results(f, x_history, f_min, x_min):    # Plots the function and the path of the coordinate search algorithm.\n",
        "\n",
        "  x_range = np.linspace(min(x_history, key=lambda x: x[0])[0] - 1,\n",
        "                        max(x_history, key=lambda x: x[0])[0] + 1, 100)\n",
        "  y = f(x_range)\n",
        "  plt.plot(x_range, y, label='Function f(x)')\n",
        "\n",
        "  for i, x in enumerate(x_history):\n",
        "    plt.scatter(x[0], f(x), marker='o', color='red', label=f'Iteration {i+1}')\n",
        "\n",
        "  plt.scatter(x_min[0], f_min, marker='*', color='green', label='Minimum')\n",
        "  plt.xlabel('x')\n",
        "  plt.ylabel('f(x)')\n",
        "  plt.legend()\n",
        "  plt.title('Coordinate Search Algorithm - Function f(x)')\n",
        "  plt.grid(True)\n",
        "  plt.show()\n",
        "\n",
        "if __name__ == '__main__':\n",
        "  x_init = np.array([1.0])  # Initial guess (as a NumPy array)\n",
        "  max_iter = 100\n",
        "  step_size = 0.1\n",
        "\n",
        "  x_min, f_min, x_history = coordinate_search(f, x_init, max_iter, step_size)\n",
        "\n",
        "  print(\"Approximate minimum:\", x_min)\n",
        "  print(\"Function value at minimum:\", f_min)\n",
        "\n",
        "  plot_results(f, x_history, f_min, x_min)\n"
      ],
      "metadata": {
        "colab": {
          "base_uri": "https://localhost:8080/",
          "height": 507
        },
        "id": "sLW67_9PXOSh",
        "outputId": "bc9bc5de-af6c-4af1-f431-0c7afd27220e"
      },
      "execution_count": 11,
      "outputs": [
        {
          "output_type": "stream",
          "name": "stdout",
          "text": [
            "Approximate minimum: [1.]\n",
            "Function value at minimum: [8.]\n"
          ]
        },
        {
          "output_type": "display_data",
          "data": {
            "text/plain": [
              "<Figure size 640x480 with 1 Axes>"
            ],
            "image/png": "[encoded data removed]"
          },
          "metadata": {}
        }
      ]
    },
    {
      "cell_type": "code",
      "source": [],
      "metadata": {
        "id": "5W_1wlo-XlVs"
      },
      "execution_count": null,
      "outputs": []
    },
    {
      "cell_type": "markdown",
      "source": [
        "**Coordinate Search Algorithm**\n",
        "\n",
        "**Inputs:**\n",
        "  - `f`: The function to optimize (represented as a function pointer or lambda expression)\n",
        "  - `x_init`: The initial guess for the minimum (as a list or array)\n",
        "  - `max_iter`: The maximum number of iterations allowed (integer)\n",
        "  - `step_size`: The step size to use for coordinate updates (float)\n",
        "\n",
        "**Outputs:**\n",
        "  - `x_min`: The approximate minimum found by the algorithm (list or array)\n",
        "  - `f_min`: The function value at the approximate minimum (float)\n",
        "\n",
        "**1. Initialization:**\n",
        "    - Create a copy of `x_init` to avoid modifying the input (store as `x`).\n",
        "    - Set `f_min` to the function value evaluated at `x` (f(x)).\n",
        "    - Initialize an iteration counter (`iter_count`) to 0.\n",
        "    - Optionally, create an empty list `x_history` to track visited points for visualization (if needed).\n",
        "\n",
        "**2. Main Loop:**\n",
        "\n",
        "    - While `iter_count` is less than `max_iter`:\n",
        "        - Set a flag `improved` to `False`.\n",
        "        - Loop through each dimension `i` in `x`:\n",
        "            - Create two copies of `x`:\n",
        "                - `x_pos` with a positive `step_size` added to the current dimension `i`.\n",
        "                - `x_neg` with a negative `step_size` subtracted from the current dimension `i`.\n",
        "            - Evaluate the function at `x_pos` and `x_neg` (store as `f_pos` and `f_neg`).\n",
        "            - If `f_pos` is less than `f_min`:\n",
        "                - Update `x` to `x_pos` and `f_min` to `f_pos`.\n",
        "                - Set `improved` to `True`.\n",
        "            - Else if `f_neg` is less than `f_min`:\n",
        "                - Update `x` to `x_neg` and `f_min` to `f_neg`.\n",
        "                - Set `improved` to `True`.\n",
        "        - Optionally, append the current `x` to `x_history` (for visualization).\n",
        "        - If `improved` is `False`, break the loop (no improvement in this iteration).\n",
        "        - Increment `iter_count`.\n",
        "\n",
        "**3. Return:**\n",
        "\n",
        "    - Return `x_min`, `f_min`, and optionally `x_history` (if tracked).\n",
        "  "
      ],
      "metadata": {
        "id": "DFvMqhU8bX0J"
      }
    },
    {
      "cell_type": "markdown",
      "source": [
        "# Coordinate search with diminishing steplength\n",
        "Implement the coordinate search algorithm detailed in Section 2.6.1 and use it\n",
        "to minimize the function:\n",
        "\n",
        "`g(w1, w2) = 0.26 ± w21 + w22² - 0.48 w1w2`\n",
        "\n",
        "using the diminishing steplength rule beginning at a random initial point. The\n",
        "global minimum of this function lies at the origin. Test your implementation\n",
        "by making sure it can reach a point significantly close (e.g., within 10-²\n",
        ") to the\n",
        "origin from various random initializations."
      ],
      "metadata": {
        "id": "YZO0iJalvB38"
      }
    },
    {
      "cell_type": "code",
      "source": [
        "import numpy as np\n",
        "\n",
        "def g(w1, w2):  #Function to be minimized.\n",
        "  return 0.26 + w1**2 + w2**2 - 0.48 * w1 * w2\n",
        "\n",
        "def coordinate_search(f, x_init, max_iter, initial_step_size, decay_rate):\n",
        "\n",
        "  x = x_init.copy()\n",
        "  f_min = f(x[0], x[1])  # Call g with unpacked elements of x\n",
        "  step_size = initial_step_size\n",
        "  iter_count = 0\n",
        "\n",
        "  while iter_count < max_iter:\n",
        "    improved = False\n",
        "\n",
        "    for i in range(len(x)):\n",
        "      x_pos = x.copy()\n",
        "      x_pos[i] += step_size\n",
        "      f_pos = f(x_pos[0], x_pos[1])  # unpacked elements of x_pos\n",
        "\n",
        "      x_neg = x.copy()\n",
        "      x_neg[i] -= step_size\n",
        "      f_neg = f(x_neg[0], x_neg[1])  # unpacked elements of x_neg\n",
        "\n",
        "      # Update x and f_min\n",
        "      if f_pos < f_min:\n",
        "        x = x_pos.copy()\n",
        "        f_min = f_pos\n",
        "        improved = True\n",
        "      elif f_neg < f_min:\n",
        "        x = x_neg.copy()\n",
        "        f_min = f_neg\n",
        "        improved = True\n",
        "\n",
        "    step_size *= decay_rate\n",
        "\n",
        "    if not improved:\n",
        "      break\n",
        "\n",
        "    iter_count += 1\n",
        "\n",
        "  return x, f_min\n",
        "\n",
        "num_tests = 5\n",
        "max_iter = 100\n",
        "initial_step_size = 0.1\n",
        "decay_rate = 0.9\n",
        "\n",
        "for _ in range(num_tests):\n",
        "  x_init = np.random.rand(2) - 0.5  # Random values between -0.5 and 0.5\n",
        "\n",
        "  x_min, f_min = coordinate_search(g, x_init, max_iter, initial_step_size, decay_rate)\n",
        "\n",
        "  print(f\"Initial guess: {x_init}\")\n",
        "  print(f\"Minimum found: {x_min}\")\n",
        "  print(f\"Function value at minimum: {f_min}\")\n",
        "  print(f\"Distance to origin: {np.linalg.norm(x_min)}\")\n",
        "  print(\"-\" * 20)\n"
      ],
      "metadata": {
        "colab": {
          "base_uri": "https://localhost:8080/"
        },
        "id": "H9Lu4FNmwt09",
        "outputId": "7c601cab-5bcf-4412-ec6f-6b2691ea2eb3"
      },
      "execution_count": 14,
      "outputs": [
        {
          "output_type": "stream",
          "name": "stdout",
          "text": [
            "Initial guess: [ 0.42036489 -0.40552934]\n",
            "Minimum found: [0.01085489 0.00398066]\n",
            "Function value at minimum: 0.2601129336215298\n",
            "Distance to origin: 0.011561757982789493\n",
            "--------------------\n",
            "Initial guess: [-0.05581646 -0.14790878]\n",
            "Minimum found: [-0.05581646 -0.04790878]\n",
            "Function value at minimum: 0.26412716071373676\n",
            "Distance to origin: 0.07355765002035809\n",
            "--------------------\n",
            "Initial guess: [0.33888928 0.35640124]\n",
            "Minimum found: [-0.00501072  0.01250124]\n",
            "Function value at minimum: 0.2602114555543916\n",
            "Distance to origin: 0.013468045945332848\n",
            "--------------------\n",
            "Initial guess: [ 0.16003844 -0.18143873]\n",
            "Minimum found: [-0.02996156  0.00856127]\n",
            "Function value at minimum: 0.2610941150278333\n",
            "Distance to origin: 0.031160723250182223\n",
            "--------------------\n",
            "Initial guess: [-0.3297989  0.2987959]\n",
            "Minimum found: [0.0141011 0.0277959]\n",
            "Function value at minimum: 0.26078331571756885\n",
            "Distance to origin: 0.03116814213516327\n",
            "--------------------\n"
          ]
        }
      ]
    },
    {
      "cell_type": "code",
      "source": [],
      "metadata": {
        "id": "ZSXOdu8xxarX"
      },
      "execution_count": null,
      "outputs": []
    }
  ]
}